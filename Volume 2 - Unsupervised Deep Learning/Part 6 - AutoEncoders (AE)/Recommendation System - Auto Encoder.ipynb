{
 "cells": [
  {
   "cell_type": "markdown",
   "metadata": {},
   "source": [
    "# Auto Enocder"
   ]
  },
  {
   "cell_type": "markdown",
   "metadata": {},
   "source": [
    "In this project, created a specific recommendation system using Auto Encoder algorithm. The data set used in this project was downloaded from the movie lens site. You can download the dataset from [here](https://grouplens.org/datasets/movielens/).\n",
    "\n",
    "The goal here was to mimic the recommendation systesm of Netflix. Our dataset has similar features as the Netflix dataset: plent of movies. thousands of users, who have rated the movie.."
   ]
  },
  {
   "cell_type": "code",
   "execution_count": 1,
   "metadata": {},
   "outputs": [],
   "source": [
    "# Importing the libraries\n",
    "import numpy as np\n",
    "import pandas as pd\n",
    "import torch\n",
    "import torch.nn as nn\n",
    "import torch.nn.parallel\n",
    "import torch.optim as optim\n",
    "import torch.utils.data\n",
    "from torch.autograd import Variable"
   ]
  },
  {
   "cell_type": "markdown",
   "metadata": {},
   "source": [
    "## Part 1 - Data Preprocessing"
   ]
  },
  {
   "cell_type": "code",
   "execution_count": 2,
   "metadata": {},
   "outputs": [],
   "source": [
    "# Importing the dataset\n",
    "movies = pd.read_csv('ml-1m/movies.dat', sep = '::', header = None, engine = 'python', encoding = 'latin-1')\n",
    "users = pd.read_csv('ml-1m/users.dat', sep = '::', header = None, engine = 'python', encoding = 'latin-1')\n",
    "ratings = pd.read_csv('ml-1m/ratings.dat', sep = '::', header = None, engine = 'python', encoding = 'latin-1')"
   ]
  },
  {
   "cell_type": "markdown",
   "metadata": {},
   "source": [
    "### Preparing the training set and the test set"
   ]
  },
  {
   "cell_type": "code",
   "execution_count": 3,
   "metadata": {},
   "outputs": [],
   "source": [
    "training_set = pd.read_csv('ml-100k/u1.base', delimiter = '\\t')\n",
    "training_set = np.array(training_set, dtype = 'int')\n",
    "test_set = pd.read_csv('ml-100k/u1.test', delimiter = '\\t')\n",
    "test_set = np.array(test_set, dtype = 'int')"
   ]
  },
  {
   "cell_type": "markdown",
   "metadata": {},
   "source": [
    "### Getting the number of users and movies"
   ]
  },
  {
   "cell_type": "code",
   "execution_count": 4,
   "metadata": {},
   "outputs": [],
   "source": [
    "nb_users = int(max(max(training_set[:,0]), max(test_set[:,0])))\n",
    "nb_movies = int(max(max(training_set[:,1]), max(test_set[:,1])))"
   ]
  },
  {
   "cell_type": "markdown",
   "metadata": {},
   "source": [
    "### Converting the data into an array with users in lines and movies in columns and then converting into Tensors"
   ]
  },
  {
   "cell_type": "code",
   "execution_count": 5,
   "metadata": {},
   "outputs": [],
   "source": [
    "def convert(data):\n",
    "    new_data = []\n",
    "    for id_users in range(1, nb_users + 1):\n",
    "        id_movies = data[:,1][data[:,0] == id_users]\n",
    "        id_ratings = data[:,2][data[:,0] == id_users]\n",
    "        ratings = np.zeros(nb_movies)\n",
    "        ratings[id_movies - 1] = id_ratings\n",
    "        new_data.append(list(ratings))\n",
    "    return new_data\n",
    "training_set = convert(training_set)\n",
    "test_set = convert(test_set)\n",
    "\n",
    "# Converting the data into Torch tensors\n",
    "training_set = torch.FloatTensor(training_set)\n",
    "test_set = torch.FloatTensor(test_set)"
   ]
  },
  {
   "cell_type": "markdown",
   "metadata": {},
   "source": [
    "## Part 2 - Creating the architecture of the Neural Network for Stacked Auto Encoder (SAE)"
   ]
  },
  {
   "cell_type": "code",
   "execution_count": 6,
   "metadata": {},
   "outputs": [],
   "source": [
    "class SAE(nn.Module):\n",
    "    def __init__(self, ):\n",
    "        super(SAE, self).__init__()\n",
    "        self.fc1 = nn.Linear(nb_movies, 20)\n",
    "        self.fc2 = nn.Linear(20, 10)\n",
    "        self.fc3 = nn.Linear(10, 20)\n",
    "        self.fc4 = nn.Linear(20, nb_movies)\n",
    "        self.activation = nn.Sigmoid()\n",
    "    def forward(self, x):\n",
    "        x = self.activation(self.fc1(x))\n",
    "        x = self.activation(self.fc2(x))\n",
    "        x = self.activation(self.fc3(x))\n",
    "        x = self.fc4(x)\n",
    "        return x\n",
    "\n",
    "# Initializating the object of class RBM \n",
    "sae = SAE()\n",
    "criterion = nn.MSELoss()\n",
    "optimizer = optim.RMSprop(sae.parameters(), lr = 0.01, weight_decay = 0.5)"
   ]
  },
  {
   "cell_type": "markdown",
   "metadata": {},
   "source": [
    "## Part 3 - Training the SAE"
   ]
  },
  {
   "cell_type": "code",
   "execution_count": 8,
   "metadata": {},
   "outputs": [
    {
     "name": "stdout",
     "output_type": "stream",
     "text": [
      "epoch: 1 loss: 1.7713175386248838\n",
      "epoch: 2 loss: 1.096561681234173\n",
      "epoch: 3 loss: 1.0533867734610278\n",
      "epoch: 4 loss: 1.0380460937833649\n",
      "epoch: 5 loss: 1.0310473466507193\n",
      "epoch: 6 loss: 1.0267226648589756\n",
      "epoch: 7 loss: 1.024018816059181\n",
      "epoch: 8 loss: 1.0218235481746736\n",
      "epoch: 9 loss: 1.0207331888294189\n",
      "epoch: 10 loss: 1.0195961264986304\n",
      "epoch: 11 loss: 1.0189201286048992\n",
      "epoch: 12 loss: 1.018366990958366\n",
      "epoch: 13 loss: 1.0179696858090046\n",
      "epoch: 14 loss: 1.017450390946745\n",
      "epoch: 15 loss: 1.0173391100782363\n",
      "epoch: 16 loss: 1.0170193163468288\n",
      "epoch: 17 loss: 1.0166796937309373\n",
      "epoch: 18 loss: 1.0166311765256886\n",
      "epoch: 19 loss: 1.0163422506273325\n",
      "epoch: 20 loss: 1.0162177765138345\n",
      "epoch: 21 loss: 1.016181768824086\n",
      "epoch: 22 loss: 1.01609408130071\n",
      "epoch: 23 loss: 1.0160121580961723\n",
      "epoch: 24 loss: 1.0159246584997639\n",
      "epoch: 25 loss: 1.0157222241165103\n",
      "epoch: 26 loss: 1.015586771293697\n",
      "epoch: 27 loss: 1.015439986695596\n",
      "epoch: 28 loss: 1.0150046921043896\n",
      "epoch: 29 loss: 1.0139313393661962\n",
      "epoch: 30 loss: 1.0123496324488548\n",
      "epoch: 31 loss: 1.0101157284383555\n",
      "epoch: 32 loss: 1.0092022223022887\n",
      "epoch: 33 loss: 1.0057263409738255\n",
      "epoch: 34 loss: 1.004750790470547\n",
      "epoch: 35 loss: 1.0017117189577474\n",
      "epoch: 36 loss: 1.0020335271705394\n",
      "epoch: 37 loss: 0.9981839868174597\n",
      "epoch: 38 loss: 0.9970231803540835\n",
      "epoch: 39 loss: 0.9929263951190753\n",
      "epoch: 40 loss: 0.9926411644264658\n",
      "epoch: 41 loss: 0.9879303714270594\n",
      "epoch: 42 loss: 0.9870555279043277\n",
      "epoch: 43 loss: 0.986350716731529\n",
      "epoch: 44 loss: 0.9892562289516017\n",
      "epoch: 45 loss: 0.9837324701475461\n",
      "epoch: 46 loss: 0.9807104221471288\n",
      "epoch: 47 loss: 0.9775581015350467\n",
      "epoch: 48 loss: 0.9779144835358226\n",
      "epoch: 49 loss: 0.9722342496297207\n",
      "epoch: 50 loss: 0.9763088673011284\n",
      "epoch: 51 loss: 0.9690399691422922\n",
      "epoch: 52 loss: 0.969892515493531\n",
      "epoch: 53 loss: 0.9656179079771922\n",
      "epoch: 54 loss: 0.9683772769929454\n",
      "epoch: 55 loss: 0.9698717898432861\n",
      "epoch: 56 loss: 0.9669114577037566\n",
      "epoch: 57 loss: 0.9624223439741075\n",
      "epoch: 58 loss: 0.9626238081293468\n",
      "epoch: 59 loss: 0.9587836199864779\n",
      "epoch: 60 loss: 0.9590148522710931\n",
      "epoch: 61 loss: 0.9557689477956932\n",
      "epoch: 62 loss: 0.9558390540944292\n",
      "epoch: 63 loss: 0.9531090995093814\n",
      "epoch: 64 loss: 0.9532858975766145\n",
      "epoch: 65 loss: 0.9503179503319135\n",
      "epoch: 66 loss: 0.9512035988781619\n",
      "epoch: 67 loss: 0.9480046288407774\n",
      "epoch: 68 loss: 0.9496042703516315\n",
      "epoch: 69 loss: 0.9460696179847825\n",
      "epoch: 70 loss: 0.9473112372526317\n",
      "epoch: 71 loss: 0.9437647475815469\n",
      "epoch: 72 loss: 0.9452336954459961\n",
      "epoch: 73 loss: 0.9434079757064769\n",
      "epoch: 74 loss: 0.9441194408269894\n",
      "epoch: 75 loss: 0.9429902505611713\n",
      "epoch: 76 loss: 0.9432371533690604\n",
      "epoch: 77 loss: 0.940869209272657\n",
      "epoch: 78 loss: 0.941273171175568\n",
      "epoch: 79 loss: 0.9389186673333807\n",
      "epoch: 80 loss: 0.9407057824438038\n",
      "epoch: 81 loss: 0.9385782252402458\n",
      "epoch: 82 loss: 0.9393974225915122\n",
      "epoch: 83 loss: 0.9377655459132295\n",
      "epoch: 84 loss: 0.9385082465206075\n",
      "epoch: 85 loss: 0.9365888470854223\n",
      "epoch: 86 loss: 0.9378236642842517\n",
      "epoch: 87 loss: 0.9359646317131599\n",
      "epoch: 88 loss: 0.9363806846357695\n",
      "epoch: 89 loss: 0.9352128466609249\n",
      "epoch: 90 loss: 0.9363319442804225\n",
      "epoch: 91 loss: 0.9343112538837777\n",
      "epoch: 92 loss: 0.9354308633810531\n",
      "epoch: 93 loss: 0.9334231289199537\n",
      "epoch: 94 loss: 0.934467953798011\n",
      "epoch: 95 loss: 0.9320572698589195\n",
      "epoch: 96 loss: 0.9332687330491094\n",
      "epoch: 97 loss: 0.9315632386624285\n",
      "epoch: 98 loss: 0.9322876071161573\n",
      "epoch: 99 loss: 0.931524658298274\n",
      "epoch: 100 loss: 0.9322532960462486\n",
      "epoch: 101 loss: 0.9305640848189392\n",
      "epoch: 102 loss: 0.9310275366201258\n",
      "epoch: 103 loss: 0.9296743020206075\n",
      "epoch: 104 loss: 0.9305362774945771\n",
      "epoch: 105 loss: 0.9291864365120214\n",
      "epoch: 106 loss: 0.9298229543969301\n",
      "epoch: 107 loss: 0.9285323703047418\n",
      "epoch: 108 loss: 0.9289192741548908\n",
      "epoch: 109 loss: 0.9279153023014827\n",
      "epoch: 110 loss: 0.9283841436377727\n",
      "epoch: 111 loss: 0.9275309850396771\n",
      "epoch: 112 loss: 0.9275451905694931\n",
      "epoch: 113 loss: 0.9267682533688305\n",
      "epoch: 114 loss: 0.9268853356159973\n",
      "epoch: 115 loss: 0.9262156297683736\n",
      "epoch: 116 loss: 0.9264797205211495\n",
      "epoch: 117 loss: 0.9259037111358974\n",
      "epoch: 118 loss: 0.9257919655674484\n",
      "epoch: 119 loss: 0.9249136633511196\n",
      "epoch: 120 loss: 0.9251104012371318\n",
      "epoch: 121 loss: 0.9244999032255116\n",
      "epoch: 122 loss: 0.9247583847745702\n",
      "epoch: 123 loss: 0.924149037703159\n",
      "epoch: 124 loss: 0.9242821234519741\n",
      "epoch: 125 loss: 0.9236378994282968\n",
      "epoch: 126 loss: 0.9235662461034391\n",
      "epoch: 127 loss: 0.9230286051805964\n",
      "epoch: 128 loss: 0.9231506180573331\n",
      "epoch: 129 loss: 0.9222776712962997\n",
      "epoch: 130 loss: 0.9223982505400969\n",
      "epoch: 131 loss: 0.9220109201886835\n",
      "epoch: 132 loss: 0.9218964644910435\n",
      "epoch: 133 loss: 0.9214211282481044\n",
      "epoch: 134 loss: 0.9214920809071104\n",
      "epoch: 135 loss: 0.9207147829939245\n",
      "epoch: 136 loss: 0.9209280452734093\n",
      "epoch: 137 loss: 0.920244759388615\n",
      "epoch: 138 loss: 0.9204507969864009\n",
      "epoch: 139 loss: 0.9197829666050603\n",
      "epoch: 140 loss: 0.9200873265588903\n",
      "epoch: 141 loss: 0.919473529761299\n",
      "epoch: 142 loss: 0.9194880889641303\n",
      "epoch: 143 loss: 0.9188880913593889\n",
      "epoch: 144 loss: 0.9191267803985892\n",
      "epoch: 145 loss: 0.9185324857605165\n",
      "epoch: 146 loss: 0.9187424436714458\n",
      "epoch: 147 loss: 0.9182811827512735\n",
      "epoch: 148 loss: 0.9183752200937869\n",
      "epoch: 149 loss: 0.9176997267489121\n",
      "epoch: 150 loss: 0.9177885574687925\n",
      "epoch: 151 loss: 0.9173097248061758\n",
      "epoch: 152 loss: 0.9174490443945921\n",
      "epoch: 153 loss: 0.9170057640816718\n",
      "epoch: 154 loss: 0.9172907472479487\n",
      "epoch: 155 loss: 0.9165052783958798\n",
      "epoch: 156 loss: 0.9166502858028317\n",
      "epoch: 157 loss: 0.9161816812219612\n",
      "epoch: 158 loss: 0.9166022398107859\n",
      "epoch: 159 loss: 0.9159527495407067\n",
      "epoch: 160 loss: 0.9165115202319538\n",
      "epoch: 161 loss: 0.9157211898867583\n",
      "epoch: 162 loss: 0.9160189650122962\n",
      "epoch: 163 loss: 0.9153410674805417\n",
      "epoch: 164 loss: 0.9156971191474201\n",
      "epoch: 165 loss: 0.9150921508026539\n",
      "epoch: 166 loss: 0.9153080471049941\n",
      "epoch: 167 loss: 0.9147611065796624\n",
      "epoch: 168 loss: 0.9151618450960964\n",
      "epoch: 169 loss: 0.9146673954369651\n",
      "epoch: 170 loss: 0.9148405392632132\n",
      "epoch: 171 loss: 0.9142522353674284\n",
      "epoch: 172 loss: 0.9144742631420955\n",
      "epoch: 173 loss: 0.9141659637558847\n",
      "epoch: 174 loss: 0.9142685079396892\n",
      "epoch: 175 loss: 0.9138554061004597\n",
      "epoch: 176 loss: 0.913953029912819\n",
      "epoch: 177 loss: 0.9135564582363443\n",
      "epoch: 178 loss: 0.9136090338661621\n",
      "epoch: 179 loss: 0.9132846620328037\n",
      "epoch: 180 loss: 0.9132362462537824\n",
      "epoch: 181 loss: 0.9130575835758865\n",
      "epoch: 182 loss: 0.9129969389399689\n",
      "epoch: 183 loss: 0.9127316067529722\n",
      "epoch: 184 loss: 0.912727414879878\n",
      "epoch: 185 loss: 0.912645978791901\n",
      "epoch: 186 loss: 0.9122167120475198\n",
      "epoch: 187 loss: 0.9121493908303372\n",
      "epoch: 188 loss: 0.9123094080566687\n",
      "epoch: 189 loss: 0.9124071212830681\n",
      "epoch: 190 loss: 0.9121722042318536\n",
      "epoch: 191 loss: 0.912080617462537\n",
      "epoch: 192 loss: 0.9118480948739492\n",
      "epoch: 193 loss: 0.9115320715259986\n",
      "epoch: 194 loss: 0.9118088455974679\n",
      "epoch: 195 loss: 0.9115195683290493\n",
      "epoch: 196 loss: 0.9114340669028129\n",
      "epoch: 197 loss: 0.9113012930207943\n",
      "epoch: 198 loss: 0.91105557067287\n",
      "epoch: 199 loss: 0.9111450618370398\n",
      "epoch: 200 loss: 0.9110643108606695\n"
     ]
    }
   ],
   "source": [
    "nb_epoch = 200\n",
    "for epoch in range(1, nb_epoch + 1):\n",
    "    train_loss = 0\n",
    "    s = 0.\n",
    "    for id_user in range(nb_users):\n",
    "        input = Variable(training_set[id_user]).unsqueeze(0)\n",
    "        target = input.clone()\n",
    "        if torch.sum(target.data > 0) > 0:\n",
    "            output = sae(input)\n",
    "            target.require_grad = False\n",
    "            output[target == 0] = 0\n",
    "            loss = criterion(output, target)\n",
    "            mean_corrector = nb_movies/float(torch.sum(target.data > 0) + 1e-10)\n",
    "            loss.backward()\n",
    "            train_loss += np.sqrt(loss.data.item()*mean_corrector)\n",
    "            s += 1.\n",
    "            optimizer.step()\n",
    "    print('epoch: '+str(epoch)+' loss: '+str(train_loss/s))"
   ]
  },
  {
   "cell_type": "markdown",
   "metadata": {},
   "source": [
    "## Part 4 - Testing the SAE"
   ]
  },
  {
   "cell_type": "code",
   "execution_count": 13,
   "metadata": {},
   "outputs": [
    {
     "name": "stdout",
     "output_type": "stream",
     "text": [
      "test loss: 0.949562476453068\n"
     ]
    }
   ],
   "source": [
    "test_loss = 0\n",
    "s = 0.\n",
    "for id_user in range(nb_users):\n",
    "    input = Variable(training_set[id_user]).unsqueeze(0)\n",
    "    target = Variable(test_set[id_user]).unsqueeze(0)\n",
    "    if torch.sum(target.data > 0) > 0:\n",
    "        output = sae(input)\n",
    "        target.require_grad = False\n",
    "        output[target == 0] = 0\n",
    "        loss = criterion(output, target)\n",
    "        mean_corrector = nb_movies/float(torch.sum(target.data > 0) + 1e-10)\n",
    "        test_loss += np.sqrt(loss.data.item()*mean_corrector)\n",
    "        s += 1.\n",
    "print('test loss: '+str(test_loss/s))"
   ]
  },
  {
   "cell_type": "markdown",
   "metadata": {},
   "source": [
    "Here, test loss is less than 1.*, which means if the user watch recommended movie which suggested by or recommendation, it is likely that the user will rate the recomended movie between 3 and 5 star."
   ]
  }
 ],
 "metadata": {
  "kernelspec": {
   "display_name": "Python 3",
   "language": "python",
   "name": "python3"
  },
  "language_info": {
   "codemirror_mode": {
    "name": "ipython",
    "version": 3
   },
   "file_extension": ".py",
   "mimetype": "text/x-python",
   "name": "python",
   "nbconvert_exporter": "python",
   "pygments_lexer": "ipython3",
   "version": "3.5.6"
  }
 },
 "nbformat": 4,
 "nbformat_minor": 2
}
