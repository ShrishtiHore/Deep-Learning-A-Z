{
 "cells": [
  {
   "cell_type": "markdown",
   "metadata": {},
   "source": [
    "# Recurrent Neural Network (RNN)"
   ]
  },
  {
   "cell_type": "markdown",
   "metadata": {},
   "source": [
    "In this notebook, we are working with Google Stock price data, and we will try to predict the stock price. We have data collected from the year 2012 to 2017. The dataset is already divided into training set and test set."
   ]
  },
  {
   "cell_type": "markdown",
   "metadata": {},
   "source": [
    "## Part 1 Data Preprocssing"
   ]
  },
  {
   "cell_type": "code",
   "execution_count": 1,
   "metadata": {},
   "outputs": [],
   "source": [
    "import pandas as pd\n",
    "import numpy as np\n",
    "import matplotlib.pyplot as plt\n",
    "\n",
    "\n",
    "# Importing the data set\n",
    "data = pd.read_csv(\"Google_Stock_Price_Train.csv\")\n",
    "training_data = data.iloc[:,1:2].values\n",
    "\n",
    "# Feature Scaling\n",
    "from sklearn.preprocessing import MinMaxScaler\n",
    "sc = MinMaxScaler()\n",
    "scaled_training_data = sc.fit_transform(training_data)\n",
    "\n",
    "# Creatuiing a data structure with 60 timestamps and 1 output\n",
    "X_train=[]\n",
    "y_train=[]\n",
    "for i in range(60,1258):\n",
    "    X_train.append(scaled_training_data[i-60:i, 0])\n",
    "    y_train.append(scaled_training_data[i,0])\n",
    "\n",
    "X_train = np.array(X_train)\n",
    "y_train = np.array(y_train)\n",
    "\n",
    "# Reshaping as 3dtensor as RNN expects input like that\n",
    "X_train = np.reshape(X_train, (X_train.shape[0], X_train.shape[1],1))\n"
   ]
  },
  {
   "cell_type": "markdown",
   "metadata": {},
   "source": [
    "## Part 2 Building the RNN"
   ]
  },
  {
   "cell_type": "code",
   "execution_count": 2,
   "metadata": {},
   "outputs": [
    {
     "name": "stderr",
     "output_type": "stream",
     "text": [
      "Using TensorFlow backend.\n"
     ]
    },
    {
     "name": "stdout",
     "output_type": "stream",
     "text": [
      "Epoch 1/100\n",
      "1198/1198 [==============================] - 7s 6ms/step - loss: 0.0455\n",
      "Epoch 2/100\n",
      "1198/1198 [==============================] - 4s 3ms/step - loss: 0.0061\n",
      "Epoch 3/100\n",
      "1198/1198 [==============================] - 4s 3ms/step - loss: 0.0051\n",
      "Epoch 4/100\n",
      "1198/1198 [==============================] - 4s 3ms/step - loss: 0.0049\n",
      "Epoch 5/100\n",
      "1198/1198 [==============================] - 4s 3ms/step - loss: 0.0054\n",
      "Epoch 6/100\n",
      "1198/1198 [==============================] - 4s 3ms/step - loss: 0.0047A: 1s - l\n",
      "Epoch 7/100\n",
      "1198/1198 [==============================] - 4s 3ms/step - loss: 0.0044\n",
      "Epoch 8/100\n",
      "1198/1198 [==============================] - 4s 3ms/step - loss: 0.0049\n",
      "Epoch 9/100\n",
      "1198/1198 [==============================] - 4s 3ms/step - loss: 0.0041\n",
      "Epoch 10/100\n",
      "1198/1198 [==============================] - 4s 3ms/step - loss: 0.0044\n",
      "Epoch 11/100\n",
      "1198/1198 [==============================] - 4s 3ms/step - loss: 0.0043\n",
      "Epoch 12/100\n",
      "1198/1198 [==============================] - 4s 3ms/step - loss: 0.0038\n",
      "Epoch 13/100\n",
      "1198/1198 [==============================] - 4s 3ms/step - loss: 0.0040\n",
      "Epoch 14/100\n",
      "1198/1198 [==============================] - 4s 3ms/step - loss: 0.0034\n",
      "Epoch 15/100\n",
      "1198/1198 [==============================] - 4s 3ms/step - loss: 0.0036\n",
      "Epoch 16/100\n",
      "1198/1198 [==============================] - 4s 3ms/step - loss: 0.0035\n",
      "Epoch 17/100\n",
      "1198/1198 [==============================] - 4s 3ms/step - loss: 0.0043\n",
      "Epoch 18/100\n",
      "1198/1198 [==============================] - 4s 3ms/step - loss: 0.0033\n",
      "Epoch 19/100\n",
      "1198/1198 [==============================] - 4s 3ms/step - loss: 0.0033\n",
      "Epoch 20/100\n",
      "1198/1198 [==============================] - 4s 3ms/step - loss: 0.0033\n",
      "Epoch 21/100\n",
      "1198/1198 [==============================] - 4s 3ms/step - loss: 0.0034\n",
      "Epoch 22/100\n",
      "1198/1198 [==============================] - 4s 3ms/step - loss: 0.0034\n",
      "Epoch 23/100\n",
      "1198/1198 [==============================] - 4s 3ms/step - loss: 0.0028\n",
      "Epoch 24/100\n",
      "1198/1198 [==============================] - 4s 3ms/step - loss: 0.0030\n",
      "Epoch 25/100\n",
      "1198/1198 [==============================] - 4s 3ms/step - loss: 0.0030\n",
      "Epoch 26/100\n",
      "1198/1198 [==============================] - 4s 3ms/step - loss: 0.0034\n",
      "Epoch 27/100\n",
      "1198/1198 [==============================] - 4s 3ms/step - loss: 0.0029\n",
      "Epoch 28/100\n",
      "1198/1198 [==============================] - 4s 3ms/step - loss: 0.0028\n",
      "Epoch 29/100\n",
      "1198/1198 [==============================] - 4s 3ms/step - loss: 0.0031\n",
      "Epoch 30/100\n",
      "1198/1198 [==============================] - 4s 3ms/step - loss: 0.0030\n",
      "Epoch 31/100\n",
      "1198/1198 [==============================] - 4s 3ms/step - loss: 0.0029\n",
      "Epoch 32/100\n",
      "1198/1198 [==============================] - 4s 3ms/step - loss: 0.0032\n",
      "Epoch 33/100\n",
      "1198/1198 [==============================] - 4s 3ms/step - loss: 0.0027\n",
      "Epoch 34/100\n",
      "1198/1198 [==============================] - 4s 3ms/step - loss: 0.0030\n",
      "Epoch 35/100\n",
      "1198/1198 [==============================] - 4s 3ms/step - loss: 0.0029\n",
      "Epoch 36/100\n",
      "1198/1198 [==============================] - 4s 3ms/step - loss: 0.0028\n",
      "Epoch 37/100\n",
      "1198/1198 [==============================] - 4s 3ms/step - loss: 0.0033\n",
      "Epoch 38/100\n",
      "1198/1198 [==============================] - 4s 3ms/step - loss: 0.0027\n",
      "Epoch 39/100\n",
      "1198/1198 [==============================] - 4s 3ms/step - loss: 0.0024\n",
      "Epoch 40/100\n",
      "1198/1198 [==============================] - 4s 3ms/step - loss: 0.0026\n",
      "Epoch 41/100\n",
      "1198/1198 [==============================] - 4s 3ms/step - loss: 0.0025\n",
      "Epoch 42/100\n",
      "1198/1198 [==============================] - 4s 3ms/step - loss: 0.0028\n",
      "Epoch 43/100\n",
      "1198/1198 [==============================] - 4s 3ms/step - loss: 0.0027\n",
      "Epoch 44/100\n",
      "1198/1198 [==============================] - 4s 3ms/step - loss: 0.0025\n",
      "Epoch 45/100\n",
      "1198/1198 [==============================] - 4s 3ms/step - loss: 0.0023\n",
      "Epoch 46/100\n",
      "1198/1198 [==============================] - 4s 3ms/step - loss: 0.0023\n",
      "Epoch 47/100\n",
      "1198/1198 [==============================] - 4s 3ms/step - loss: 0.0025\n",
      "Epoch 48/100\n",
      "1198/1198 [==============================] - 4s 3ms/step - loss: 0.0023\n",
      "Epoch 49/100\n",
      "1198/1198 [==============================] - 4s 3ms/step - loss: 0.0024\n",
      "Epoch 50/100\n",
      "1198/1198 [==============================] - 4s 3ms/step - loss: 0.0025\n",
      "Epoch 51/100\n",
      "1198/1198 [==============================] - 4s 3ms/step - loss: 0.0021\n",
      "Epoch 52/100\n",
      "1198/1198 [==============================] - 4s 3ms/step - loss: 0.0022\n",
      "Epoch 53/100\n",
      "1198/1198 [==============================] - 4s 3ms/step - loss: 0.0020\n",
      "Epoch 54/100\n",
      "1198/1198 [==============================] - 4s 3ms/step - loss: 0.0021\n",
      "Epoch 55/100\n",
      "1198/1198 [==============================] - 4s 3ms/step - loss: 0.0021\n",
      "Epoch 56/100\n",
      "1198/1198 [==============================] - 4s 3ms/step - loss: 0.0026\n",
      "Epoch 57/100\n",
      "1198/1198 [==============================] - 4s 3ms/step - loss: 0.0022\n",
      "Epoch 58/100\n",
      "1198/1198 [==============================] - 4s 3ms/step - loss: 0.0022\n",
      "Epoch 59/100\n",
      "1198/1198 [==============================] - 4s 3ms/step - loss: 0.0020\n",
      "Epoch 60/100\n",
      "1198/1198 [==============================] - 4s 3ms/step - loss: 0.0022\n",
      "Epoch 61/100\n",
      "1198/1198 [==============================] - 4s 3ms/step - loss: 0.0018\n",
      "Epoch 62/100\n",
      "1198/1198 [==============================] - 4s 3ms/step - loss: 0.0019\n",
      "Epoch 63/100\n",
      "1198/1198 [==============================] - 4s 3ms/step - loss: 0.0019\n",
      "Epoch 64/100\n",
      "1198/1198 [==============================] - 4s 3ms/step - loss: 0.0020\n",
      "Epoch 65/100\n",
      "1198/1198 [==============================] - 4s 3ms/step - loss: 0.0021\n",
      "Epoch 66/100\n",
      "1198/1198 [==============================] - 4s 3ms/step - loss: 0.0022\n",
      "Epoch 67/100\n",
      "1198/1198 [==============================] - 4s 3ms/step - loss: 0.0018\n",
      "Epoch 68/100\n",
      "1198/1198 [==============================] - 4s 3ms/step - loss: 0.0019\n",
      "Epoch 69/100\n",
      "1198/1198 [==============================] - 4s 3ms/step - loss: 0.0017\n",
      "Epoch 70/100\n",
      "1198/1198 [==============================] - 4s 3ms/step - loss: 0.0018\n",
      "Epoch 71/100\n",
      "1198/1198 [==============================] - 4s 3ms/step - loss: 0.0017\n",
      "Epoch 72/100\n",
      "1198/1198 [==============================] - 4s 3ms/step - loss: 0.0017\n",
      "Epoch 73/100\n",
      "1198/1198 [==============================] - 4s 3ms/step - loss: 0.0018\n",
      "Epoch 74/100\n",
      "1198/1198 [==============================] - 4s 3ms/step - loss: 0.0018\n",
      "Epoch 75/100\n",
      "1198/1198 [==============================] - 4s 3ms/step - loss: 0.0016\n",
      "Epoch 76/100\n",
      "1198/1198 [==============================] - 4s 3ms/step - loss: 0.0017\n",
      "Epoch 77/100\n",
      "1198/1198 [==============================] - 4s 3ms/step - loss: 0.0016\n",
      "Epoch 78/100\n",
      "1198/1198 [==============================] - 4s 3ms/step - loss: 0.0017\n",
      "Epoch 79/100\n",
      "1198/1198 [==============================] - 4s 3ms/step - loss: 0.0019\n",
      "Epoch 80/100\n",
      "1198/1198 [==============================] - 4s 3ms/step - loss: 0.0016\n",
      "Epoch 81/100\n",
      "1198/1198 [==============================] - 4s 3ms/step - loss: 0.0016\n",
      "Epoch 82/100\n",
      "1198/1198 [==============================] - 4s 3ms/step - loss: 0.0018\n",
      "Epoch 83/100\n",
      "1198/1198 [==============================] - 4s 3ms/step - loss: 0.0018\n",
      "Epoch 84/100\n",
      "1198/1198 [==============================] - 4s 3ms/step - loss: 0.0017\n",
      "Epoch 85/100\n",
      "1198/1198 [==============================] - 4s 3ms/step - loss: 0.0016\n",
      "Epoch 86/100\n",
      "1198/1198 [==============================] - 4s 3ms/step - loss: 0.0016\n",
      "Epoch 87/100\n",
      "1198/1198 [==============================] - 4s 3ms/step - loss: 0.0015\n",
      "Epoch 88/100\n",
      "1198/1198 [==============================] - 4s 3ms/step - loss: 0.0016\n",
      "Epoch 89/100\n",
      "1198/1198 [==============================] - 4s 3ms/step - loss: 0.0015\n",
      "Epoch 90/100\n",
      "1198/1198 [==============================] - 4s 3ms/step - loss: 0.0015\n",
      "Epoch 91/100\n",
      "1198/1198 [==============================] - 4s 3ms/step - loss: 0.0017\n",
      "Epoch 92/100\n",
      "1198/1198 [==============================] - 4s 3ms/step - loss: 0.0015\n",
      "Epoch 93/100\n",
      "1198/1198 [==============================] - 4s 3ms/step - loss: 0.0015\n",
      "Epoch 94/100\n",
      "1198/1198 [==============================] - 4s 3ms/step - loss: 0.0015\n",
      "Epoch 95/100\n",
      "1198/1198 [==============================] - 4s 3ms/step - loss: 0.0015\n",
      "Epoch 96/100\n",
      "1198/1198 [==============================] - 4s 3ms/step - loss: 0.0015\n",
      "Epoch 97/100\n"
     ]
    },
    {
     "name": "stdout",
     "output_type": "stream",
     "text": [
      "1198/1198 [==============================] - 4s 3ms/step - loss: 0.0015\n",
      "Epoch 98/100\n",
      "1198/1198 [==============================] - 4s 3ms/step - loss: 0.0015\n",
      "Epoch 99/100\n",
      "1198/1198 [==============================] - 4s 3ms/step - loss: 0.0016\n",
      "Epoch 100/100\n",
      "1198/1198 [==============================] - 4s 3ms/step - loss: 0.0014\n"
     ]
    },
    {
     "data": {
      "text/plain": [
       "<keras.callbacks.History at 0x1818c2bbcf8>"
      ]
     },
     "execution_count": 2,
     "metadata": {},
     "output_type": "execute_result"
    }
   ],
   "source": [
    "from keras.models import Sequential\n",
    "from keras.layers import Dense, Dropout, LSTM\n",
    "\n",
    "# Initialize the RNN\n",
    "regressor = Sequential()\n",
    "\n",
    "# Adding first LSTM layer with Dropout Regularization\n",
    "regressor.add(LSTM(units=50, return_sequences= True, input_shape= (X_train.shape[1], 1)))\n",
    "regressor.add(Dropout(0.2))\n",
    "\n",
    "# Adding Second LSTM layer with Dropout Regularization\n",
    "regressor.add(LSTM(units=50, return_sequences= True))\n",
    "regressor.add(Dropout(0.2))\n",
    "\n",
    "# Adding Third LSTM layer with Dropout Regularization\n",
    "regressor.add(LSTM(units=50, return_sequences= True))\n",
    "regressor.add(Dropout(0.2))\n",
    "\n",
    "# Adding Fourth/last LSTM layer with Dropout Regularization\n",
    "regressor.add(LSTM(units=50))\n",
    "regressor.add(Dropout(0.2))\n",
    "\n",
    "# Adding the output layer\n",
    "regressor.add(Dense(units=1))\n",
    "\n",
    "# Compiling the RNN\n",
    "regressor.compile(optimizer='adam', loss='mean_squared_error')\n",
    "\n",
    "# Fitting the training set\n",
    "regressor.fit(X_train, y_train, epochs=100, batch_size=32)"
   ]
  },
  {
   "cell_type": "markdown",
   "metadata": {},
   "source": [
    "## Part 3 Making the prediction"
   ]
  },
  {
   "cell_type": "code",
   "execution_count": 15,
   "metadata": {},
   "outputs": [],
   "source": [
    "# Getting the test set now\n",
    "data_test = pd.read_csv('Google_Stock_Price_Test.csv')\n",
    "real_stock_price = data_test.iloc[:, 1:2].values\n",
    "\n",
    "# Getting the predicted stock price of 2017\n",
    "dataset_total = pd.concat((data['Open'], data_test['Open']), axis = 0)\n",
    "inputs = dataset_total[len(dataset_total) - len(data_test) - 60:].values\n",
    "inputs = inputs.reshape(-1,1)\n",
    "inputs = sc.transform(inputs)\n",
    "X_test = []\n",
    "for i in range(60, 80):\n",
    "    X_test.append(inputs[i-60:i, 0])\n",
    "X_test = np.array(X_test)\n",
    "X_test = np.reshape(X_test, (X_test.shape[0], X_test.shape[1], 1))\n",
    "predicted_stock_price = regressor.predict(X_test)\n",
    "predicted_stock_price = sc.inverse_transform(predicted_stock_price)"
   ]
  },
  {
   "cell_type": "markdown",
   "metadata": {},
   "source": [
    "##  Visualizing the results"
   ]
  },
  {
   "cell_type": "code",
   "execution_count": 16,
   "metadata": {},
   "outputs": [
    {
     "data": {
      "image/png": "[encoded data removed]",
      "text/plain": [
       "<Figure size 432x288 with 1 Axes>"
      ]
     },
     "metadata": {
      "needs_background": "light"
     },
     "output_type": "display_data"
    }
   ],
   "source": [
    "plt.plot(real_stock_price, color = 'red', label = 'Real Google Stock Price')\n",
    "plt.plot(predicted_stock_price, color = 'blue', label = 'Predicted Google Stock Price')\n",
    "plt.title('Google Stock Price Prediction')\n",
    "plt.xlabel('Time')\n",
    "plt.ylabel('Google Stock Price')\n",
    "plt.legend()\n",
    "plt.show()"
   ]
  },
  {
   "cell_type": "markdown",
   "metadata": {},
   "source": [
    "It is almost predicting the trend which is happening, as this stock prediction, we are not interested in the closeness of the value. But, we are interested in the trned whether it will go up pr down in furture."
   ]
  }
 ],
 "metadata": {
  "kernelspec": {
   "display_name": "Python 3",
   "language": "python",
   "name": "python3"
  },
  "language_info": {
   "codemirror_mode": {
    "name": "ipython",
    "version": 3
   },
   "file_extension": ".py",
   "mimetype": "text/x-python",
   "name": "python",
   "nbconvert_exporter": "python",
   "pygments_lexer": "ipython3",
   "version": "3.5.6"
  }
 },
 "nbformat": 4,
 "nbformat_minor": 2
}
